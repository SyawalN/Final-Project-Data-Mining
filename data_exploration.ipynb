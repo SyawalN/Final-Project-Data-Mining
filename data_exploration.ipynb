{
 "cells": [
  {
   "cell_type": "markdown",
   "metadata": {},
   "source": [
    "### Import Library & Dataset\n",
    "Mengimport library yang dibutuhkan dan dataset yang akan digunakan. Lalu tampilkan 5 data pertama dari dataset."
   ]
  },
  {
   "cell_type": "code",
   "execution_count": 1,
   "metadata": {},
   "outputs": [
    {
     "name": "stdout",
     "output_type": "stream",
     "text": [
      "   No              Nota       Nama Anggota  Kode Anggota  Barcode  \\\n",
      "0   1  PNJM-230102-0001      WENNY WINALTI     1010306.0   113536   \n",
      "1   2  PNJM-230102-0001      WENNY WINALTI     1010306.0   119570   \n",
      "2   3  PNJM-230102-0002              NOFRI     1011248.0   118005   \n",
      "3   4  PNJM-230102-0003  TRIKA ADINDA SARI     1011168.0    60999   \n",
      "4   5  PNJM-230102-0003  TRIKA ADINDA SARI     1011168.0   141286   \n",
      "\n",
      "                                          Judul Buku Tgl. Pinjam  \\\n",
      "0  Mewarnai, Menggunting & Membuat Topeng Monster...  02/01/2023   \n",
      "1  Komik Sufi Rumi: Kisah & Hikmah Pencerah Hati/...  02/01/2023   \n",
      "2  Budidaya & Pemasteran Kacer Siap Menjadi Jawar...  02/01/2023   \n",
      "3  LIMA SEKAWAN: SARJANA MISTERIUS/ ENID BLYTON; ...  02/01/2023   \n",
      "4             Somewhere Called Home/ Dhamala Shobita  02/01/2023   \n",
      "\n",
      "  Tgl. Perpanjang Batas Kembali Tgl. Kembali  Telat              Status  \\\n",
      "0             NaN    09/01/2023   03/01/2023    NaN  Sudah Dikembalikan   \n",
      "1             NaN    09/01/2023   03/01/2023    NaN  Sudah Dikembalikan   \n",
      "2             NaN    09/01/2023   07/01/2023    NaN  Sudah Dikembalikan   \n",
      "3             NaN    09/01/2023   09/01/2023    NaN  Sudah Dikembalikan   \n",
      "4             NaN    09/01/2023   09/01/2023    NaN  Sudah Dikembalikan   \n",
      "\n",
      "  Keterangan  \n",
      "0        NaN  \n",
      "1        NaN  \n",
      "2        NaN  \n",
      "3        NaN  \n",
      "4        NaN  \n"
     ]
    }
   ],
   "source": [
    "import pandas as pd\n",
    "\n",
    "# mengambil data dari file csv\n",
    "df = pd.read_csv('transaksi_buku.csv')\n",
    "\n",
    "# menampilkan 5 data pertama dari dataset\n",
    "print(df.head())"
   ]
  },
  {
   "cell_type": "markdown",
   "metadata": {},
   "source": [
    "### Cek Info Data\n",
    "Melihat info data secara umum"
   ]
  },
  {
   "cell_type": "code",
   "execution_count": 2,
   "metadata": {},
   "outputs": [
    {
     "name": "stdout",
     "output_type": "stream",
     "text": [
      "<class 'pandas.core.frame.DataFrame'>\n",
      "RangeIndex: 4036 entries, 0 to 4035\n",
      "Data columns (total 13 columns):\n",
      " #   Column           Non-Null Count  Dtype  \n",
      "---  ------           --------------  -----  \n",
      " 0   No               4036 non-null   int64  \n",
      " 1   Nota             4036 non-null   object \n",
      " 2   Nama Anggota     4031 non-null   object \n",
      " 3   Kode Anggota     4031 non-null   float64\n",
      " 4   Barcode          4036 non-null   int64  \n",
      " 5   Judul Buku       4035 non-null   object \n",
      " 6   Tgl. Pinjam      4036 non-null   object \n",
      " 7   Tgl. Perpanjang  446 non-null    object \n",
      " 8   Batas Kembali    4036 non-null   object \n",
      " 9   Tgl. Kembali     3929 non-null   object \n",
      " 10  Telat            107 non-null    float64\n",
      " 11  Status           4036 non-null   object \n",
      " 12  Keterangan       1136 non-null   object \n",
      "dtypes: float64(2), int64(2), object(9)\n",
      "memory usage: 410.0+ KB\n",
      "None\n"
     ]
    }
   ],
   "source": [
    "print(df.info())"
   ]
  },
  {
   "cell_type": "markdown",
   "metadata": {},
   "source": [
    "### Cek Tipe Data\n",
    "Melihat tipe data dari setiap kolom pada dataset"
   ]
  },
  {
   "cell_type": "code",
   "execution_count": 3,
   "metadata": {},
   "outputs": [
    {
     "name": "stdout",
     "output_type": "stream",
     "text": [
      "No                   int64\n",
      "Nota                object\n",
      "Nama Anggota        object\n",
      "Kode Anggota       float64\n",
      "Barcode              int64\n",
      "Judul Buku          object\n",
      "Tgl. Pinjam         object\n",
      "Tgl. Perpanjang     object\n",
      "Batas Kembali       object\n",
      "Tgl. Kembali        object\n",
      "Telat              float64\n",
      "Status              object\n",
      "Keterangan          object\n",
      "dtype: object\n"
     ]
    }
   ],
   "source": [
    "print(df.dtypes)"
   ]
  },
  {
   "cell_type": "markdown",
   "metadata": {},
   "source": [
    "### Cek Missing Value\n",
    "Melihat apakah ada missing value dari setiap kolom pada dataset"
   ]
  },
  {
   "cell_type": "code",
   "execution_count": 4,
   "metadata": {},
   "outputs": [
    {
     "name": "stdout",
     "output_type": "stream",
     "text": [
      "No                 4036\n",
      "Nota               4036\n",
      "Nama Anggota       4031\n",
      "Kode Anggota       4031\n",
      "Barcode            4036\n",
      "Judul Buku         4035\n",
      "Tgl. Pinjam        4036\n",
      "Tgl. Perpanjang     446\n",
      "Batas Kembali      4036\n",
      "Tgl. Kembali       3929\n",
      "Telat               107\n",
      "Status             4036\n",
      "Keterangan         1136\n",
      "dtype: int64\n"
     ]
    }
   ],
   "source": [
    "print(df.count())"
   ]
  },
  {
   "cell_type": "code",
   "execution_count": 11,
   "metadata": {},
   "outputs": [
    {
     "name": "stdout",
     "output_type": "stream",
     "text": [
      "No                 66\n",
      "Nota               66\n",
      "Nama Anggota       66\n",
      "Kode Anggota       66\n",
      "Barcode            66\n",
      "Judul Buku         66\n",
      "Tgl. Pinjam        66\n",
      "Tgl. Perpanjang     4\n",
      "Batas Kembali      66\n",
      "Tgl. Kembali       65\n",
      "Telat               1\n",
      "Status             66\n",
      "Keterangan         10\n",
      "dtype: int64\n",
      "\n",
      "Total Data Duplikat: 66\n"
     ]
    }
   ],
   "source": [
    "duplicates = df[df.duplicated(subset=['Nota','Judul Buku'], keep = False)]\n",
    "\n",
    "duplicates\n",
    "print(duplicates.count())\n",
    "print(\"\\nTotal Data Duplikat:\", len(duplicates))"
   ]
  }
 ],
 "metadata": {
  "kernelspec": {
   "display_name": "Python 3",
   "language": "python",
   "name": "python3"
  },
  "language_info": {
   "codemirror_mode": {
    "name": "ipython",
    "version": 3
   },
   "file_extension": ".py",
   "mimetype": "text/x-python",
   "name": "python",
   "nbconvert_exporter": "python",
   "pygments_lexer": "ipython3",
   "version": "3.10.7"
  }
 },
 "nbformat": 4,
 "nbformat_minor": 2
}
