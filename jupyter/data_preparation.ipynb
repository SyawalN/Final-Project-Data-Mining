{
 "cells": [
  {
   "cell_type": "markdown",
   "metadata": {},
   "source": [
    "### Import Library & Dataset\n",
    "Mengimport library yang dibutuhkan dan dataset yang akan digunakan. Lalu tampilkan 5 data pertama dari dataset."
   ]
  },
  {
   "cell_type": "code",
   "execution_count": null,
   "metadata": {},
   "outputs": [],
   "source": [
    "import pandas as pd\n",
    "from itertools import combinations\n",
    "from collections import Counter\n",
    "import matplotlib.pyplot as plt\n",
    "import seaborn as sns\n",
    "\n",
    "# mengambil data dari file csv\n",
    "data = pd.read_csv('transaksi_buku.csv')\n",
    "\n",
    "# menampilkan 5 data pertama dari dataset\n",
    "print(data.head())"
   ]
  },
  {
   "cell_type": "markdown",
   "metadata": {},
   "source": [
    "### Delete Unused Columns\n",
    "Menghapus kolom yang tidak diperlukan dari dataset."
   ]
  },
  {
   "cell_type": "code",
   "execution_count": null,
   "metadata": {},
   "outputs": [],
   "source": [
    "columns_to_drop = ['No','Nama Anggota', 'Kode Anggota', 'Barcode', 'Tgl. Pinjam', 'Tgl. Perpanjang', 'Batas Kembali', 'Tgl. Kembali', 'Telat', 'Status', 'Keterangan']\n",
    "data_reduced = data.drop(columns=columns_to_drop)\n",
    "\n",
    "data_reduced.head()"
   ]
  },
  {
   "cell_type": "markdown",
   "metadata": {},
   "source": [
    "### Cek Typedata, Missing Value, Duplicates Data\n",
    "Mengecek tipe data, missing value, dan duplikasi data pada dataset yang telah diubah."
   ]
  },
  {
   "cell_type": "code",
   "execution_count": null,
   "metadata": {},
   "outputs": [],
   "source": [
    "data_info = data_reduced.info()\n",
    "missing_values = data_reduced.isnull().sum()\n",
    "duplicates = data_reduced[data_reduced.duplicated(subset=['Nota','Judul Buku'], keep = False)]\n",
    "\n",
    "print(data_info)\n",
    "print(missing_values)\n",
    "duplicates"
   ]
  },
  {
   "cell_type": "markdown",
   "metadata": {},
   "source": [
    "### Preprocessing Data\n",
    "Melakukan preprocessing data, seperti menghapus duplikasi dan baris dengan nilai yang hilang."
   ]
  },
  {
   "cell_type": "code",
   "execution_count": null,
   "metadata": {},
   "outputs": [],
   "source": [
    "data_reduced = data_reduced.drop_duplicates(subset=['Nota', 'Judul Buku'], keep='first')\n",
    "data_cleaned = data_reduced.dropna()\n",
    "\n",
    "data_cleaned\n"
   ]
  },
  {
   "cell_type": "markdown",
   "metadata": {},
   "source": [
    "### Cek Missing Value & Duplicates Data After Preprocessing\n",
    "Mengecek kembali missing value dan duplikasi data setelah preprocessing."
   ]
  },
  {
   "cell_type": "code",
   "execution_count": null,
   "metadata": {},
   "outputs": [],
   "source": [
    "missing_values = data_cleaned.isnull().sum()\n",
    "duplicates = data_cleaned[data_cleaned.duplicated(subset=['Nota','Judul Buku'], keep = False)]\n",
    "\n",
    "print(missing_values)\n",
    "duplicates\n"
   ]
  },
  {
   "cell_type": "markdown",
   "metadata": {},
   "source": [
    "### Aggregation Data\n",
    "Menggabungkan data yang memiliki nota yang sama menjadi satu baris."
   ]
  },
  {
   "cell_type": "code",
   "execution_count": null,
   "metadata": {},
   "outputs": [],
   "source": [
    "transactions = data_cleaned.groupby('Nota')['Judul Buku'].apply(list).reset_index()\n",
    "\n",
    "transactions"
   ]
  }
 ],
 "metadata": {
  "kernelspec": {
   "display_name": "venv",
   "language": "python",
   "name": "python3"
  },
  "language_info": {
   "codemirror_mode": {
    "name": "ipython",
    "version": 3
   },
   "file_extension": ".py",
   "mimetype": "text/x-python",
   "name": "python",
   "nbconvert_exporter": "python",
   "pygments_lexer": "ipython3",
   "version": "3.12.2"
  }
 },
 "nbformat": 4,
 "nbformat_minor": 2
}
